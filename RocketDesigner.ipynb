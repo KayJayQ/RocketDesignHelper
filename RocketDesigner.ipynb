{
 "cells": [
  {
   "cell_type": "markdown",
   "metadata": {},
   "source": [
    "# Rocket Designer"
   ]
  },
  {
   "cell_type": "code",
   "execution_count": 1,
   "metadata": {},
   "outputs": [],
   "source": [
    "import numpy as np"
   ]
  },
  {
   "cell_type": "code",
   "execution_count": 2,
   "metadata": {},
   "outputs": [],
   "source": [
    "from matplotlib import pyplot as plt\n",
    "from matplotlib import patches as mpathes"
   ]
  },
  {
   "cell_type": "code",
   "execution_count": 3,
   "metadata": {},
   "outputs": [],
   "source": [
    "class Tank:\n",
    "    # Fuel Tank\n",
    "    def __init__(self,name):\n",
    "        self.name = name\n",
    "        self.dry_mass = 0 #dry mass, dead weight, kilogram\n",
    "        self.capacity = 0 #capacity of fuel, liter\n",
    "        self.fuel_type = None #Fuel type, object:fuel. i.e. LqdOxygen\n",
    "        \n",
    "    def mass(self):\n",
    "        return self.dry_mass + (self.fuel_type.density) * (self.capacity)\n",
    "\n",
    "class Fuel:\n",
    "    # Fuel Resource\n",
    "    def __init__(self,name):\n",
    "        self.name = name\n",
    "        self.density = 0 #Density of fuel, kilogram per meters cube\n",
    "        self.color = (0,0,0) #color\n",
    "        \n",
    "class Engine:\n",
    "    # Engine\n",
    "    def __init__(self,name):\n",
    "        self.name = name\n",
    "        self.nozzle = 0 #Number of nozzle\n",
    "        self.dry_mass = 0 #mass of engine, kilogram\n",
    "        self.max_thrust = 0 #Max vacume thrust, newton\n",
    "        self.Isp_surface  = 0 #Isp on surface, second\n",
    "        self.Isp_vacume = 0 #Isp on vacume, second\n",
    "    \n",
    "    def set_resource(self,types,ratio):\n",
    "        self.fuel_types = types #Resource type required, object:Fuel\n",
    "        self.fuel_ratio = ratio #Resource ratio required\n",
    "        \n",
    "        assert len(self.fuel_ratio) == len(self.fuel_types) and abs(np.sum(self.fuel_ratio)-1) < 1e-5, \"Resource Ratio Error\"\n",
    "        \n",
    "    def mass(self):\n",
    "        return self.dry_mass\n",
    "\n",
    "class Stage:\n",
    "    # Stage\n",
    "    def __init__(self,name):\n",
    "        self.name = name\n",
    "        self.dead_weight = 0 #weight of shell, instruments and everything other than tanks and engines\n",
    "        self.diameter = 0 # Diameter, meter\n",
    "        self.height = 0 # Height, meter\n",
    "        self.tanks = []\n",
    "        self.engines = []\n",
    "    \n",
    "    def add_tank(self,tank):\n",
    "        self.tanks.append(tank)\n",
    "        assert np.pi*(self.diameter/2)**2*self.height > np.sum([i.capacity for i in self.tanks]), \"Volumn of tanks exceeds stage capacity\"\n",
    "    def add_engine(self,engine):\n",
    "        self.engines.append(engine)\n",
    "    \n",
    "    def mass(self):\n",
    "        return self.dead_weight + np.sum([i.mass() for i in self.tanks]) + np.sum([i.mass() for i in self.engines])\n",
    "    \n",
    "class Fairing(Stage):\n",
    "    # Fairing\n",
    "    def __init__(self,name):\n",
    "        Stage.__init__(self,name)\n",
    "        self.curve = 0.7\n",
    "\n",
    "class Rocket:\n",
    "    # Rocket\n",
    "    def _dv(isp,dry,wet):\n",
    "        assert wet >= dry\n",
    "        return isp*9.8*np.log(wet/dry)\n",
    "    \n",
    "    def __init__(self,name):\n",
    "        self.name = name\n",
    "        self.cores = [] #core stages, orders matter! index 0 = core stage at bottom, index 1 = second stage...\n",
    "        self.sides = [] #side boosters\n",
    "    \n",
    "    def add_core(self,core:Stage):\n",
    "        self.cores.append(core)\n",
    "    \n",
    "    def add_side(self,side:Stage):\n",
    "        self.sides.append(side)\n",
    "    \n",
    "    def mass(self):\n",
    "        return np.sum([i.mass() for i in self.cores]) + np.sum([i.mass() for i in self.sides])\n",
    "    \n",
    "    def dv(self):\n",
    "        # DV for stages\n",
    "        res = dict()\n",
    "        n = len(self.cores)\n",
    "        cores = self.cores[:]\n",
    "        for i in range(n):\n",
    "            stage = cores[i]\n",
    "            rest_mass = np.sum([j.mass() for j in self.cores[i+1:]])\n",
    "            thrust = np.sum([i.max_thrust for i in stage.engines])\n",
    "            isp_surface = np.mean([i.Isp_surface for i in stage.engines])\n",
    "            isp_vacume = np.mean([i.Isp_vacume for i in stage.engines])\n",
    "            types = stage.engines[0].fuel_types\n",
    "            ratio = stage.engines[0].fuel_ratio\n",
    "            resources = []\n",
    "            density = []\n",
    "            for t in types:\n",
    "                for tank in stage.tanks:\n",
    "                    if tank.fuel_type == t:\n",
    "                        resources.append(tank.capacity)\n",
    "                        density.append(tank.fuel_type.density)\n",
    "            fuel_vol = np.min(np.array(resources)/np.array(ratio)) * np.array(ratio)\n",
    "            fuel_mass = np.sum(np.array(density) * fuel_vol)\n",
    "            surface_dv = Rocket._dv(isp_surface,rest_mass+stage.mass()-fuel_mass,rest_mass+stage.mass())\n",
    "            vacume_dv = Rocket._dv(isp_vacume,rest_mass+stage.mass()-fuel_mass,rest_mass+stage.mass())\n",
    "            if i == 0:\n",
    "                time = (fuel_mass * surface_dv)/thrust\n",
    "            else:\n",
    "                time = (fuel_mass * vacume_dv)/thrust\n",
    "            res[i+1] = dict()\n",
    "            res[i+1][\"initial mass\"] = rest_mass+stage.mass()\n",
    "            res[i+1][\"final mass\"] = rest_mass+stage.mass()-fuel_mass\n",
    "            res[i+1][\"surface dv\"] = surface_dv\n",
    "            res[i+1][\"vacume dv\"] = vacume_dv\n",
    "            res[i+1][\"burning time\"] = time\n",
    "            res[i+1][\"initial twr\"] = thrust/((rest_mass+stage.mass())*9.8)\n",
    "            res[i+1][\"stage dwr\"] = stage.mass()/(stage.mass()-fuel_mass)\n",
    "        return res\n",
    "    \n",
    "    def info(self):\n",
    "        #print info\n",
    "        for k,v in self.dv().items():\n",
    "            print(\"Stage\",k)\n",
    "            for k1,v1 in v.items():\n",
    "                print(k1,v1)\n",
    "            print()\n",
    "        \n",
    "        print(\"Total Mass\",self.mass())\n",
    "        if len(self.sides) > 0:\n",
    "            thrust = np.sum([engine.max_thrust for engine in self.cores[0].engines] + [engine.max_thrust for engine in self.sides[0].engines]*len(self.sides))\n",
    "        else:\n",
    "            thrust = np.sum([engine.max_thrust for engine in self.cores[0].engines])\n",
    "        print(\"Initial Thrust\",thrust)\n",
    "        print(\"Initial TWR\", thrust/(self.mass()*9.8))\n",
    "        print(\"Total ASL DV\", np.sum([v[\"surface dv\"] for v in self.dv().values()]))\n",
    "        print(\"Total VAC DV\", np.sum([v[\"vacume dv\"] for v in self.dv().values()]))\n",
    "        print(\"Height\", np.sum([stage.height for stage in self.cores]))\n",
    "    \n",
    "    def plot(self):\n",
    "        fig,ax = plt.subplots(figsize=(4,24))\n",
    "        plt.axis([-10,10,-10,110])\n",
    "        cur_y = 0\n",
    "        for stage in self.cores:\n",
    "            rect = mpathes.Rectangle([-stage.diameter/2,cur_y],stage.diameter,stage.height,color=(0.5,0.9,0.9,0.2))\n",
    "            ax.add_patch(rect)\n",
    "            top = cur_y + stage.height - 1\n",
    "            for tank in stage.tanks:\n",
    "                height = tank.capacity / (np.pi * (stage.diameter/2)**2 * stage.height) * stage.height\n",
    "                rect = mpathes.Rectangle([-(stage.diameter*0.8)/2, top-height],stage.diameter*0.8,height,color=tank.fuel_type.color)\n",
    "                top -= height+1\n",
    "                ax.add_patch(rect)\n",
    "            n = np.sum([i.nozzle for i in stage.engines])\n",
    "            space = stage.diameter/(n+1)\n",
    "            for i in range(n):\n",
    "                poly = mpathes.RegularPolygon([-stage.diameter/2 + (i+1)*space,top],3,1,color=(1,0,0,1))\n",
    "                ax.add_patch(poly)\n",
    "            cur_y += stage.height\n",
    "        plt.show()"
   ]
  },
  {
   "cell_type": "code",
   "execution_count": 4,
   "metadata": {},
   "outputs": [],
   "source": [
    "LH2 = Fuel(\"LqdHydrogen\")\n",
    "LH2.density = 70.85\n",
    "LH2.color = (0,1,1,1)\n",
    "\n",
    "Kerosene = Fuel(\"Kerosene\")\n",
    "Kerosene.density = 800\n",
    "Kerosene.color = (0.8,0.8,0.8,1)\n",
    "\n",
    "LO2 = Fuel(\"LqdOxygen\")\n",
    "LO2.density = 1143\n",
    "LO2.color = (128/255,64/255,64/255,1)"
   ]
  },
  {
   "cell_type": "code",
   "execution_count": 5,
   "metadata": {},
   "outputs": [
    {
     "name": "stdout",
     "output_type": "stream",
     "text": [
      "218.684301120977\n",
      "74.22012644105887\n"
     ]
    }
   ],
   "source": [
    "CS3LH2 = Tank(\"Third Stage Liquid Hydrogen Tank\")\n",
    "CS3LH2.dry_mass = 3000\n",
    "CS3LH2.capacity = np.pi * 3.75**2 * 5.5 * 0.9\n",
    "CS3LH2.fuel_type = LH2\n",
    "print(CS3LH2.capacity)\n",
    "\n",
    "CS3LO2 = Tank(\"Third Stage Liquid Oxygen Tank\")\n",
    "CS3LO2.dry_mass = 1500\n",
    "CS3LO2.capacity = np.pi * 2.5**2 * 4.2 * 0.9\n",
    "CS3LO2.fuel_type = LO2\n",
    "print(CS3LO2.capacity)"
   ]
  },
  {
   "cell_type": "code",
   "execution_count": 6,
   "metadata": {},
   "outputs": [],
   "source": [
    "YF80 = Engine(\"YF-80 25t Level Vacume Engine\")\n",
    "YF80.nozzle = 1\n",
    "YF80.dry_mass = 500\n",
    "YF80.max_thrust = 243000\n",
    "YF80.Isp_surface = 320\n",
    "YF80.Isp_vacume = 460\n",
    "YF80.set_resource([LH2,LO2],[0.745,0.255])"
   ]
  },
  {
   "cell_type": "code",
   "execution_count": 7,
   "metadata": {},
   "outputs": [],
   "source": [
    "CS3 = Stage(\"Third Stage\")\n",
    "CS3.dead_weight = ((np.pi*3.8**2*5)-(np.pi*3.775**2*5))*2500 + 0 #Payload\n",
    "CS3.diameter = 7.6\n",
    "CS3.height = 12\n",
    "CS3.add_tank(CS3LH2)\n",
    "CS3.add_tank(CS3LO2)\n",
    "CS3.add_engine(YF80)\n",
    "CS3.add_engine(YF80)\n",
    "CS3.add_engine(YF80)\n",
    "CS3.add_engine(YF80)"
   ]
  },
  {
   "cell_type": "code",
   "execution_count": 8,
   "metadata": {},
   "outputs": [],
   "source": [
    "CS2LO2 = Tank(\"Second Stage Liquid Oxygen Tank\")\n",
    "CS2LO2.dry_mass = 3000\n",
    "CS2LO2.capacity = np.pi * 3.75**2 * 5.5 * 0.86\n",
    "CS2LO2.fuel_type = LO2\n",
    "\n",
    "CS2LH2 = Tank(\"Second Stage Liquid Hydrogen Tank\")\n",
    "CS2LH2.dry_mass = 8000\n",
    "CS2LH2.capacity = np.pi * 4.75**2 * 10 * 0.86\n",
    "CS2LH2.fuel_type = LH2"
   ]
  },
  {
   "cell_type": "code",
   "execution_count": 9,
   "metadata": {},
   "outputs": [],
   "source": [
    "YF90 = Engine(\"YF-90 220t Level Engine\")\n",
    "YF90.nozzle = 1\n",
    "YF90.dry_mass = 3100\n",
    "YF90.max_thrust = 2200000\n",
    "YF90.Isp_surface = 360\n",
    "YF90.Isp_vacume = 455\n",
    "YF90.set_resource([LH2,LO2],[0.745,0.255])"
   ]
  },
  {
   "cell_type": "code",
   "execution_count": 10,
   "metadata": {},
   "outputs": [],
   "source": [
    "CS2 = Stage(\"Second Stage\")\n",
    "CS2.dead_weight = ((np.pi*4.75**2*10)-(np.pi*4.745**2*10))*2500\n",
    "CS2.diameter = 9.5\n",
    "CS2.height = 30\n",
    "CS2.add_tank(CS2LH2)\n",
    "CS2.add_tank(CS2LO2)\n",
    "CS2.add_engine(YF90)\n",
    "CS2.add_engine(YF90)"
   ]
  },
  {
   "cell_type": "code",
   "execution_count": 11,
   "metadata": {},
   "outputs": [],
   "source": [
    "CS1LO2 = Tank(\"Core Stage Liquid Oxygen Tank\")\n",
    "CS1LO2.dry_mass = 5000\n",
    "CS1LO2.capacity = np.pi * 4.75**2 * 15 * 0.83\n",
    "CS1LO2.fuel_type = LO2\n",
    "\n",
    "CS1KER = Tank(\"Core Stage Kerosene Tank\")\n",
    "CS1KER.dry_mass = 2500\n",
    "CS1KER.capacity = np.pi * 4.75**2 * 9.4 * 0.83\n",
    "CS1KER.fuel_type = Kerosene"
   ]
  },
  {
   "cell_type": "code",
   "execution_count": 12,
   "metadata": {},
   "outputs": [],
   "source": [
    "YF130 = Engine(\"YF-130 480t Level Engine\")\n",
    "YF130.nozzle = 2\n",
    "YF130.dry_mass = 6000\n",
    "YF130.max_thrust = 4800000\n",
    "YF130.Isp_surface = 306\n",
    "YF130.Isp_vacume = 320\n",
    "YF130.set_resource([Kerosene,LO2],[0.38,0.62])"
   ]
  },
  {
   "cell_type": "code",
   "execution_count": 13,
   "metadata": {},
   "outputs": [],
   "source": [
    "CS1 = Stage(\"Core Stage\")\n",
    "CS1.dead_weight = ((np.pi*4.75**2*25)-(np.pi*4.72**2*25))*2500\n",
    "CS1.diameter = 9.5\n",
    "CS1.height = 35\n",
    "CS1.add_tank(CS1LO2)\n",
    "CS1.add_tank(CS1KER)\n",
    "CS1.add_engine(YF130)\n",
    "CS1.add_engine(YF130)\n",
    "CS1.add_engine(YF130)\n",
    "CS1.add_engine(YF130)\n",
    "CS1.add_engine(YF130)"
   ]
  },
  {
   "cell_type": "code",
   "execution_count": 14,
   "metadata": {},
   "outputs": [
    {
     "name": "stdout",
     "output_type": "stream",
     "text": [
      "Stage 1\n",
      "initial mass 1961608.4576074795\n",
      "final mass 520228.73001906904\n",
      "surface dv 3980.1617293309614\n",
      "vacume dv 4162.26063198009\n",
      "burning time 239.03851788253658\n",
      "initial twr 1.2484548495593704\n",
      "stage dwr 14.994017507605061\n",
      "\n",
      "Stage 2\n",
      "initial mass 417229.02126458933\n",
      "final mass 135552.26449350605\n",
      "surface dv 3966.4527872922918\n",
      "vacume dv 5013.155606161091\n",
      "burning time 320.92941189368867\n",
      "initial twr 1.0760986627342264\n",
      "stage dwr 14.2316293599275\n",
      "\n",
      "Stage 3\n",
      "initial mass 114264.12611622107\n",
      "final mass 14067.464774600521\n",
      "surface dv 6568.8161154283225\n",
      "vacume dv 9442.673165928212\n",
      "burning time 973.3789355618487\n",
      "initial twr 0.868021108991858\n",
      "stage dwr 8.12258128575736\n",
      "\n",
      "Total Mass 1961608.4576074795\n",
      "Initial Thrust 24000000\n",
      "Initial TWR 1.2484548495593704\n",
      "Total ASL DV 14515.430632051575\n",
      "Total VAC DV 18618.089404069393\n",
      "Height 77\n"
     ]
    },
    {
     "data": {
      "image/png": "[encoded data removed]",
      "text/plain": [
       "<Figure size 288x1728 with 1 Axes>"
      ]
     },
     "metadata": {
      "needs_background": "light"
     },
     "output_type": "display_data"
    }
   ],
   "source": [
    "sample = Rocket(\"Sample Rocket\")\n",
    "sample.add_core(CS1)\n",
    "sample.add_core(CS2)\n",
    "sample.add_core(CS3)\n",
    "sample.info()\n",
    "sample.plot()"
   ]
  },
  {
   "cell_type": "code",
   "execution_count": null,
   "metadata": {},
   "outputs": [],
   "source": []
  }
 ],
 "metadata": {
  "kernelspec": {
   "display_name": "Python 3",
   "language": "python",
   "name": "python3"
  },
  "language_info": {
   "codemirror_mode": {
    "name": "ipython",
    "version": 3
   },
   "file_extension": ".py",
   "mimetype": "text/x-python",
   "name": "python",
   "nbconvert_exporter": "python",
   "pygments_lexer": "ipython3",
   "version": "3.8.6"
  }
 },
 "nbformat": 4,
 "nbformat_minor": 4
}
